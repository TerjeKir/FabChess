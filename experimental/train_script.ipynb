{
 "cells": [
  {
   "cell_type": "code",
   "execution_count": 1,
   "metadata": {},
   "outputs": [],
   "source": [
    "import pandas as pd\n",
    "import tensorflow as tf\n",
    "import numpy as np\n",
    "import gc"
   ]
  },
  {
   "cell_type": "code",
   "execution_count": 2,
   "metadata": {},
   "outputs": [],
   "source": [
    "df = pd.read_csv(\"../andrews_dataset_subset.dat\", dtype=np.float32)"
   ]
  },
  {
   "cell_type": "code",
   "execution_count": 3,
   "metadata": {},
   "outputs": [
    {
     "data": {
      "text/plain": [
       "42"
      ]
     },
     "execution_count": 3,
     "metadata": {},
     "output_type": "execute_result"
    }
   ],
   "source": [
    "arr = np.array(df)\n",
    "del df\n",
    "gc.collect()"
   ]
  },
  {
   "cell_type": "code",
   "execution_count": null,
   "metadata": {},
   "outputs": [],
   "source": [
    "X = df.iloc[:, :676]\n",
    "Y = df.iloc[:, -1]\n",
    "N = len(X)\n",
    "train_test_split = 0.95\n",
    "N_X = int(train_test_split * N)\n",
    "x_train = X[:N_X]\n",
    "y_train = Y[:N_X]\n",
    "x_test = X[N_X:]\n",
    "y_test = Y[N_X:]"
   ]
  },
  {
   "cell_type": "code",
   "execution_count": 13,
   "metadata": {},
   "outputs": [],
   "source": [
    "X = arr[:, :676]\n",
    "Y = np.zeros((len(arr), 3))\n",
    "Y[:, 0] = arr[:, -1] == 1.\n",
    "Y[:, 1] = arr[:, -1] == 0.5\n",
    "Y[:, 2] = arr[:, -1] == 0.\n",
    "\n",
    "N = len(X)\n",
    "train_test_split = 0.95\n",
    "N_X = int(train_test_split * N)\n",
    "x_train = X[:N_X]\n",
    "y_train = Y[:N_X]\n",
    "x_test = X[N_X:]\n",
    "y_test = Y[N_X:]"
   ]
  },
  {
   "cell_type": "code",
   "execution_count": 14,
   "metadata": {},
   "outputs": [],
   "source": [
    "inputs = tf.keras.Input(shape=(676,))\n",
    "x = tf.keras.layers.Dense(16, activation = tf.nn.relu)(inputs)\n",
    "#x = tf.keras.layers.Dense(16, activation = tf.nn.relu)(x)\n",
    "outputs = tf.keras.layers.Dense(3, activation = tf.nn.softmax)(x)\n",
    "model = tf.keras.Model(inputs = inputs, outputs = outputs)"
   ]
  },
  {
   "cell_type": "code",
   "execution_count": 15,
   "metadata": {},
   "outputs": [],
   "source": [
    "model.compile(loss=tf.keras.losses.MSE,metrics=[\"accuracy\"] )"
   ]
  },
  {
   "cell_type": "code",
   "execution_count": null,
   "metadata": {},
   "outputs": [],
   "source": [
    "def write_weights(model, file):\n",
    "    with open(file, 'w') as f:\n",
    "        weights = model.get_weights()\n",
    "        for i in range(len(weights)):\n",
    "            w = weights[i]\n",
    "            if i % 2 == 0:\n",
    "                layer_desc = \"WEIGHTS\"\n",
    "                layer_type = \"[f32;{}]\".format(w.shape[0] * w.shape[1])\n",
    "                s = \"pub const LAYER_{}_WEIGHTS_SHAPE: (usize, usize) = ({},{});\\n\".format(i//2, w.shape[0],w.shape[1])\n",
    "            else:\n",
    "                layer_desc = \"BIAS\"\n",
    "                layer_type = \"[f32;{}]\".format(len(w))\n",
    "                s = \"\"\n",
    "\n",
    "            s += \"#[rustfmt::skip]\\npub const LAYER_{}_{} : {} = \".format(i//2,layer_desc,layer_type)\n",
    "            s += \"[\";\n",
    "            for j in range(len(w)):\n",
    "                if i % 2 == 0:\n",
    "                    for k in range(len(w[j])):\n",
    "                        s += str(w[j,k])\n",
    "                        if k != len(w[j]) - 1:\n",
    "                            s += \",\"\n",
    "                else:\n",
    "                    s += str(w[j])\n",
    "                s += \",\"\n",
    "            s += \"];\\n\"\n",
    "            f.write(s)"
   ]
  },
  {
   "cell_type": "code",
   "execution_count": null,
   "metadata": {},
   "outputs": [],
   "source": [
    "import math\n",
    "def sigmoid(x):\n",
    "  return 1 / (1 + math.exp(-x))"
   ]
  },
  {
   "cell_type": "code",
   "execution_count": null,
   "metadata": {
    "scrolled": true
   },
   "outputs": [
    {
     "name": "stdout",
     "output_type": "stream",
     "text": [
      "38656/59375 [==================>...........] - ETA: 16s - loss: 0.1794 - accuracy: 0.5780"
     ]
    }
   ],
   "source": [
    "save = \"train/model7\"\n",
    "import gc\n",
    "import time\n",
    "for i in range(100):\n",
    "    gc.collect()\n",
    "    time.sleep(5)\n",
    "    #model.fit(x_train[:2_500_000], y_train[:2_500_000], epochs = 1)\n",
    "    #model.fit(x_train[2_500_000:], y_train[2_500_000:], epochs = 1)\n",
    "    #model.evaluate(x_test,y_test)\n",
    "    model.fit(x_train,y_train,validation_data=(x_test,y_test), epochs=1)\n",
    "    model.save(save+\"_\"+str(i)+\".h5\")\n",
    "#write_weights(model, save+\".weights\")"
   ]
  },
  {
   "cell_type": "code",
   "execution_count": null,
   "metadata": {},
   "outputs": [],
   "source": [
    "write_weights(model, save+\".weights\")"
   ]
  },
  {
   "cell_type": "code",
   "execution_count": null,
   "metadata": {},
   "outputs": [],
   "source": [
    "other_model = tf.keras.models.load_model(\"train/model4_7.h5\")\n",
    "other_model.evaluate(x_test, y_test)"
   ]
  },
  {
   "cell_type": "code",
   "execution_count": null,
   "metadata": {},
   "outputs": [],
   "source": [
    "test = np.zeros((1, 676), dtype=np.float32)\n",
    "other_model.predict(test)"
   ]
  }
 ],
 "metadata": {
  "kernelspec": {
   "display_name": "Python 3",
   "language": "python",
   "name": "python3"
  },
  "language_info": {
   "codemirror_mode": {
    "name": "ipython",
    "version": 3
   },
   "file_extension": ".py",
   "mimetype": "text/x-python",
   "name": "python",
   "nbconvert_exporter": "python",
   "pygments_lexer": "ipython3",
   "version": "3.7.6"
  }
 },
 "nbformat": 4,
 "nbformat_minor": 4
}
