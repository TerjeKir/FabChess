{
 "cells": [
  {
   "cell_type": "code",
   "execution_count": 1,
   "metadata": {},
   "outputs": [],
   "source": [
    "import pandas as pd\n",
    "import tensorflow as tf\n",
    "import numpy as np"
   ]
  },
  {
   "cell_type": "code",
   "execution_count": 2,
   "metadata": {},
   "outputs": [],
   "source": [
    "df = pd.read_csv(\"../training_big.dat\", dtype=np.float32)"
   ]
  },
  {
   "cell_type": "code",
   "execution_count": 4,
   "metadata": {},
   "outputs": [],
   "source": [
    "arr = np.array(df)"
   ]
  },
  {
   "cell_type": "code",
   "execution_count": 93,
   "metadata": {},
   "outputs": [
    {
     "data": {
      "text/plain": [
       "(2, 677)"
      ]
     },
     "execution_count": 93,
     "metadata": {},
     "output_type": "execute_result"
    }
   ],
   "source": [
    "df = pd.read_csv(\"../test.dat\")\n",
    "arr = np.array(df)\n",
    "arr.shape"
   ]
  },
  {
   "cell_type": "code",
   "execution_count": 12,
   "metadata": {},
   "outputs": [
    {
     "ename": "KeyboardInterrupt",
     "evalue": "",
     "output_type": "error",
     "traceback": [
      "\u001b[1;31m---------------------------------------------------------------------------\u001b[0m",
      "\u001b[1;31mKeyboardInterrupt\u001b[0m                         Traceback (most recent call last)",
      "\u001b[1;32m<ipython-input-12-ff46150b3048>\u001b[0m in \u001b[0;36m<module>\u001b[1;34m\u001b[0m\n\u001b[0;32m      3\u001b[0m \u001b[0morder\u001b[0m \u001b[1;33m=\u001b[0m \u001b[0mnp\u001b[0m\u001b[1;33m.\u001b[0m\u001b[0marange\u001b[0m\u001b[1;33m(\u001b[0m\u001b[0mlen\u001b[0m\u001b[1;33m(\u001b[0m\u001b[0mX\u001b[0m\u001b[1;33m)\u001b[0m\u001b[1;33m)\u001b[0m\u001b[1;33m\u001b[0m\u001b[1;33m\u001b[0m\u001b[0m\n\u001b[0;32m      4\u001b[0m \u001b[0mnp\u001b[0m\u001b[1;33m.\u001b[0m\u001b[0mrandom\u001b[0m\u001b[1;33m.\u001b[0m\u001b[0mshuffle\u001b[0m\u001b[1;33m(\u001b[0m\u001b[0morder\u001b[0m\u001b[1;33m)\u001b[0m\u001b[1;33m\u001b[0m\u001b[1;33m\u001b[0m\u001b[0m\n\u001b[1;32m----> 5\u001b[1;33m \u001b[0mX\u001b[0m \u001b[1;33m=\u001b[0m \u001b[0mX\u001b[0m\u001b[1;33m[\u001b[0m\u001b[0morder\u001b[0m\u001b[1;33m]\u001b[0m\u001b[1;33m\u001b[0m\u001b[1;33m\u001b[0m\u001b[0m\n\u001b[0m\u001b[0;32m      6\u001b[0m \u001b[0mY\u001b[0m \u001b[1;33m=\u001b[0m \u001b[0mY\u001b[0m\u001b[1;33m[\u001b[0m\u001b[0morder\u001b[0m\u001b[1;33m]\u001b[0m\u001b[1;33m\u001b[0m\u001b[1;33m\u001b[0m\u001b[0m\n\u001b[0;32m      7\u001b[0m \u001b[0mN\u001b[0m \u001b[1;33m=\u001b[0m \u001b[0mlen\u001b[0m\u001b[1;33m(\u001b[0m\u001b[0mX\u001b[0m\u001b[1;33m)\u001b[0m\u001b[1;33m\u001b[0m\u001b[1;33m\u001b[0m\u001b[0m\n",
      "\u001b[1;31mKeyboardInterrupt\u001b[0m: "
     ]
    }
   ],
   "source": [
    "X = arr[:, :676]\n",
    "Y = arr[:, -1]\n",
    "order = np.arange(len(X))\n",
    "np.random.shuffle(order)\n",
    "X = X[order]\n",
    "Y = Y[order]\n",
    "N = len(X)\n",
    "train_test_split = 0.8\n",
    "N_X = int(train_test_split * N)\n",
    "x_train = X[:N_X]\n",
    "y_train = Y[:N_X]\n",
    "x_test = X[N_X:]\n",
    "y_test = Y[N_X:]"
   ]
  },
  {
   "cell_type": "code",
   "execution_count": 18,
   "metadata": {},
   "outputs": [],
   "source": [
    "inputs = tf.keras.Input(shape=(676,))\n",
    "x = tf.keras.layers.Dense(100, activation = tf.nn.relu)(inputs)\n",
    "outputs = tf.keras.layers.Dense(1, activation = tf.nn.sigmoid)(x)\n",
    "model = tf.keras.Model(inputs = inputs, outputs = outputs)"
   ]
  },
  {
   "cell_type": "code",
   "execution_count": 28,
   "metadata": {},
   "outputs": [],
   "source": [
    "model.compile(loss=tf.keras.losses.MSE,metrics=[\"accuracy\"] )"
   ]
  },
  {
   "cell_type": "code",
   "execution_count": 66,
   "metadata": {},
   "outputs": [],
   "source": [
    "def write_weights(model, file):\n",
    "    with open(file, 'w') as f:\n",
    "        weights = model.get_weights()\n",
    "        for i in range(len(weights)):\n",
    "            w = weights[i]\n",
    "            if i % 2 == 0:\n",
    "                layer_desc = \"WEIGHTS\"\n",
    "                layer_type = \"[f32;{}]\".format(w.shape[0] * w.shape[1])\n",
    "                s = \"pub const LAYER_{}_WEIGHTS_SHAPE: (usize, usize) = ({},{});\\n\".format(i//2, w.shape[0],w.shape[1])\n",
    "            else:\n",
    "                layer_desc = \"BIAS\"\n",
    "                layer_type = \"[f32;{}]\".format(len(w))\n",
    "                s = \"\"\n",
    "\n",
    "            s += \"#[rustfmt::skip]\\npub const LAYER_{}_{} : {} = \".format(i//2,layer_desc,layer_type)\n",
    "            s += \"[\";\n",
    "            for j in range(len(w)):\n",
    "                if i % 2 == 0:\n",
    "                    for k in range(len(w[j])):\n",
    "                        s += str(w[j,k])\n",
    "                        if k != len(w[j]) - 1:\n",
    "                            s += \",\"\n",
    "                else:\n",
    "                    s += str(w[j])\n",
    "                s += \",\"\n",
    "            s += \"];\\n\"\n",
    "            f.write(s)"
   ]
  },
  {
   "cell_type": "code",
   "execution_count": 99,
   "metadata": {},
   "outputs": [],
   "source": [
    "model = tf.keras.models.load_model(\"second_model.h5\")"
   ]
  },
  {
   "cell_type": "code",
   "execution_count": 101,
   "metadata": {},
   "outputs": [],
   "source": [
    "write_weights(model, save+\".weights\")"
   ]
  },
  {
   "cell_type": "code",
   "execution_count": 80,
   "metadata": {},
   "outputs": [],
   "source": [
    "import math\n",
    "def sigmoid(x):\n",
    "  return 1 / (1 + math.exp(-x))"
   ]
  },
  {
   "cell_type": "code",
   "execution_count": 100,
   "metadata": {},
   "outputs": [
    {
     "data": {
      "text/plain": [
       "array([[0.48872244],\n",
       "       [0.58495736]], dtype=float32)"
      ]
     },
     "execution_count": 100,
     "metadata": {},
     "output_type": "execute_result"
    }
   ],
   "source": [
    "model.predict(arr[:, :676])"
   ]
  },
  {
   "cell_type": "code",
   "execution_count": null,
   "metadata": {
    "scrolled": true
   },
   "outputs": [
    {
     "name": "stdout",
     "output_type": "stream",
     "text": [
      "62500/62500 [==============================] - 80s 1ms/step - loss: 0.0636 - accuracy: 0.7287 - val_loss: 0.0584 - val_accuracy: 0.7261\n",
      "62500/62500 [==============================] - 79s 1ms/step - loss: 0.0634 - accuracy: 0.7291 - val_loss: 0.0588 - val_accuracy: 0.7259\n",
      "62500/62500 [==============================] - 82s 1ms/step - loss: 0.0632 - accuracy: 0.7296 - val_loss: 0.0584 - val_accuracy: 0.7264\n",
      "62500/62500 [==============================] - 79s 1ms/step - loss: 0.0631 - accuracy: 0.7298 - val_loss: 0.0585 - val_accuracy: 0.7263\n",
      "62500/62500 [==============================] - 79s 1ms/step - loss: 0.0630 - accuracy: 0.7299 - val_loss: 0.0586 - val_accuracy: 0.7261\n",
      "62500/62500 [==============================] - 81s 1ms/step - loss: 0.0629 - accuracy: 0.7300 - val_loss: 0.0601 - val_accuracy: 0.7224\n",
      "62500/62500 [==============================] - 81s 1ms/step - loss: 0.0629 - accuracy: 0.7301 - val_loss: 0.0582 - val_accuracy: 0.7268\n",
      "62500/62500 [==============================] - 81s 1ms/step - loss: 0.0628 - accuracy: 0.7302 - val_loss: 0.0590 - val_accuracy: 0.7258\n",
      "62500/62500 [==============================] - 82s 1ms/step - loss: 0.0628 - accuracy: 0.7303 - val_loss: 0.0585 - val_accuracy: 0.7263\n",
      "62500/62500 [==============================] - 82s 1ms/step - loss: 0.0628 - accuracy: 0.7303 - val_loss: 0.0584 - val_accuracy: 0.7265\n",
      "62500/62500 [==============================] - 84s 1ms/step - loss: 0.0628 - accuracy: 0.7303 - val_loss: 0.0588 - val_accuracy: 0.7260\n",
      "62500/62500 [==============================] - 81s 1ms/step - loss: 0.0628 - accuracy: 0.7304 - val_loss: 0.0588 - val_accuracy: 0.7257\n",
      "24845/62500 [==========>...................] - ETA: 42s - loss: 0.0626 - accuracy: 0.7312"
     ]
    }
   ],
   "source": [
    "save = \"second_model\"\n",
    "import gc\n",
    "import time\n",
    "for i in range(100):\n",
    "    gc.collect()\n",
    "    time.sleep(5)\n",
    "    model.fit(X[:N_X], Y[:N_X], validation_data=(X[N_X:],Y[N_X:]), epochs = 1)\n",
    "    model.save(save+\".h5\")\n",
    "#write_weights(model, save+\".weights\")"
   ]
  }
 ],
 "metadata": {
  "kernelspec": {
   "display_name": "Python 3",
   "language": "python",
   "name": "python3"
  },
  "language_info": {
   "codemirror_mode": {
    "name": "ipython",
    "version": 3
   },
   "file_extension": ".py",
   "mimetype": "text/x-python",
   "name": "python",
   "nbconvert_exporter": "python",
   "pygments_lexer": "ipython3",
   "version": "3.7.6"
  }
 },
 "nbformat": 4,
 "nbformat_minor": 4
}
