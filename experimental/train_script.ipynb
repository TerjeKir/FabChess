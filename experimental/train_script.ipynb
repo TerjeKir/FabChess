{
 "cells": [
  {
   "cell_type": "code",
   "execution_count": 1,
   "metadata": {},
   "outputs": [],
   "source": [
    "import pandas as pd\n",
    "import tensorflow as tf\n",
    "import numpy as np\n",
    "import gc"
   ]
  },
  {
   "cell_type": "code",
   "execution_count": null,
   "metadata": {},
   "outputs": [],
   "source": [
    "df = pd.read_csv(\"../training_big.dat\", dtype=np.float32)"
   ]
  },
  {
   "cell_type": "code",
   "execution_count": null,
   "metadata": {},
   "outputs": [],
   "source": [
    "arr = np.array(df)"
   ]
  },
  {
   "cell_type": "code",
   "execution_count": null,
   "metadata": {},
   "outputs": [],
   "source": [
    "del df\n",
    "import gc\n",
    "gc.collect()"
   ]
  },
  {
   "cell_type": "code",
   "execution_count": 2,
   "metadata": {},
   "outputs": [
    {
     "data": {
      "text/plain": [
       "(91083, 677)"
      ]
     },
     "execution_count": 2,
     "metadata": {},
     "output_type": "execute_result"
    }
   ],
   "source": [
    "df = pd.read_csv(\"../training.dat\")\n",
    "arr = np.array(df)\n",
    "arr.shape"
   ]
  },
  {
   "cell_type": "code",
   "execution_count": 3,
   "metadata": {},
   "outputs": [],
   "source": [
    "X = arr[:, :676]\n",
    "Y = arr[:, -1]\n",
    "N = len(X)\n",
    "train_test_split = 0.95\n",
    "N_X = int(train_test_split * N)\n",
    "x_train = X[:N_X]\n",
    "y_train = Y[:N_X]\n",
    "x_test = X[N_X:]\n",
    "y_test = Y[N_X:]"
   ]
  },
  {
   "cell_type": "code",
   "execution_count": null,
   "metadata": {},
   "outputs": [],
   "source": [
    "X = arr[:, :676]\n",
    "Y = arr[:, -1]\n",
    "order = np.arange(len(X))\n",
    "np.random.shuffle(order)\n",
    "X = X[order]\n",
    "Y = Y[order]\n",
    "N = len(X)\n",
    "train_test_split = 0.8\n",
    "N_X = int(train_test_split * N)\n",
    "x_train = X[:N_X]\n",
    "y_train = Y[:N_X]\n",
    "x_test = X[N_X:]\n",
    "y_test = Y[N_X:]"
   ]
  },
  {
   "cell_type": "code",
   "execution_count": null,
   "metadata": {},
   "outputs": [],
   "source": [
    "inputs = tf.keras.Input(shape=(676,))\n",
    "x = tf.keras.layers.Dense(4, activation = tf.nn.relu)(inputs)\n",
    "#x = tf.keras.layers.Dense(32, activation = tf.nn.relu)(x)\n",
    "outputs = tf.keras.layers.Dense(1, activation = tf.nn.sigmoid)(x)\n",
    "model = tf.keras.Model(inputs = inputs, outputs = outputs)"
   ]
  },
  {
   "cell_type": "code",
   "execution_count": null,
   "metadata": {},
   "outputs": [],
   "source": [
    "model.compile(loss=tf.keras.losses.MSE,metrics=[\"accuracy\"] )"
   ]
  },
  {
   "cell_type": "code",
   "execution_count": null,
   "metadata": {},
   "outputs": [],
   "source": [
    "def write_weights(model, file):\n",
    "    with open(file, 'w') as f:\n",
    "        weights = model.get_weights()\n",
    "        for i in range(len(weights)):\n",
    "            w = weights[i]\n",
    "            if i % 2 == 0:\n",
    "                layer_desc = \"WEIGHTS\"\n",
    "                layer_type = \"[f32;{}]\".format(w.shape[0] * w.shape[1])\n",
    "                s = \"pub const LAYER_{}_WEIGHTS_SHAPE: (usize, usize) = ({},{});\\n\".format(i//2, w.shape[0],w.shape[1])\n",
    "            else:\n",
    "                layer_desc = \"BIAS\"\n",
    "                layer_type = \"[f32;{}]\".format(len(w))\n",
    "                s = \"\"\n",
    "\n",
    "            s += \"#[rustfmt::skip]\\npub const LAYER_{}_{} : {} = \".format(i//2,layer_desc,layer_type)\n",
    "            s += \"[\";\n",
    "            for j in range(len(w)):\n",
    "                if i % 2 == 0:\n",
    "                    for k in range(len(w[j])):\n",
    "                        s += str(w[j,k])\n",
    "                        if k != len(w[j]) - 1:\n",
    "                            s += \",\"\n",
    "                else:\n",
    "                    s += str(w[j])\n",
    "                s += \",\"\n",
    "            s += \"];\\n\"\n",
    "            f.write(s)"
   ]
  },
  {
   "cell_type": "code",
   "execution_count": null,
   "metadata": {},
   "outputs": [],
   "source": [
    "import math\n",
    "def sigmoid(x):\n",
    "  return 1 / (1 + math.exp(-x))"
   ]
  },
  {
   "cell_type": "code",
   "execution_count": null,
   "metadata": {
    "scrolled": true
   },
   "outputs": [],
   "source": [
    "save = \"train/model6\"\n",
    "import gc\n",
    "import time\n",
    "for i in range(100):\n",
    "    gc.collect()\n",
    "    time.sleep(5)\n",
    "    model.fit(x_train, y_train, validation_data=(x_test,y_test), epochs = 1)\n",
    "    model.save(save+\"_\"+str(i)+\".h5\")\n",
    "#write_weights(model, save+\".weights\")"
   ]
  },
  {
   "cell_type": "code",
   "execution_count": null,
   "metadata": {},
   "outputs": [],
   "source": [
    "write_weights(model, save+\".weights\")"
   ]
  },
  {
   "cell_type": "code",
   "execution_count": 4,
   "metadata": {},
   "outputs": [
    {
     "name": "stdout",
     "output_type": "stream",
     "text": [
      "143/143 [==============================] - 0s 813us/step - loss: 0.0641 - accuracy: 0.7319\n"
     ]
    },
    {
     "data": {
      "text/plain": [
       "[0.06409894675016403, 0.731942892074585]"
      ]
     },
     "execution_count": 4,
     "metadata": {},
     "output_type": "execute_result"
    }
   ],
   "source": [
    "other_model = tf.keras.models.load_model(\"train/model4_7.h5\")\n",
    "other_model.evaluate(x_test, y_test)"
   ]
  },
  {
   "cell_type": "code",
   "execution_count": null,
   "metadata": {},
   "outputs": [],
   "source": [
    "test = np.zeros((1, 676), dtype=np.float32)\n",
    "other_model.predict(test)"
   ]
  }
 ],
 "metadata": {
  "kernelspec": {
   "display_name": "Python 3",
   "language": "python",
   "name": "python3"
  },
  "language_info": {
   "codemirror_mode": {
    "name": "ipython",
    "version": 3
   },
   "file_extension": ".py",
   "mimetype": "text/x-python",
   "name": "python",
   "nbconvert_exporter": "python",
   "pygments_lexer": "ipython3",
   "version": "3.7.6"
  }
 },
 "nbformat": 4,
 "nbformat_minor": 4
}
